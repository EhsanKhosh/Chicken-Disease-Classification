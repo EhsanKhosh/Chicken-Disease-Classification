{
 "cells": [
  {
   "cell_type": "code",
   "execution_count": 1,
   "id": "initial_id",
   "metadata": {
    "collapsed": true,
    "ExecuteTime": {
     "end_time": "2024-02-22T08:16:48.466087770Z",
     "start_time": "2024-02-22T08:16:48.384187340Z"
    }
   },
   "outputs": [],
   "source": [
    "import os"
   ]
  },
  {
   "cell_type": "code",
   "outputs": [],
   "source": [
    "os.chdir('../')"
   ],
   "metadata": {
    "collapsed": false,
    "ExecuteTime": {
     "end_time": "2024-02-22T08:16:48.472296374Z",
     "start_time": "2024-02-22T08:16:48.431391648Z"
    }
   },
   "id": "a8e130035df6e3f6",
   "execution_count": 2
  },
  {
   "cell_type": "code",
   "outputs": [
    {
     "data": {
      "text/plain": "'/home/ehsan/PycharmProjects/Chicken-Disease-Classification/Chicken-Disease-Classification'"
     },
     "execution_count": 3,
     "metadata": {},
     "output_type": "execute_result"
    }
   ],
   "source": [
    "%pwd"
   ],
   "metadata": {
    "collapsed": false,
    "ExecuteTime": {
     "end_time": "2024-02-22T08:16:53.034841638Z",
     "start_time": "2024-02-22T08:16:52.941261913Z"
    }
   },
   "id": "d1252b42747bbcd3",
   "execution_count": 3
  },
  {
   "cell_type": "code",
   "outputs": [],
   "source": [
    "from dataclasses import dataclass\n",
    "from pathlib import Path\n",
    "\n",
    "@dataclass(frozen=True)\n",
    "class CallbacksConfig:\n",
    "    root_dir: Path\n",
    "    tensorboard_log_dir: Path\n",
    "    checkpoint_dir: Path\n",
    "    "
   ],
   "metadata": {
    "collapsed": false,
    "ExecuteTime": {
     "end_time": "2024-02-22T08:21:27.823323920Z",
     "start_time": "2024-02-22T08:21:27.732140179Z"
    }
   },
   "id": "ead0412024b49bb",
   "execution_count": 4
  },
  {
   "cell_type": "code",
   "outputs": [],
   "source": [
    "from cnnClassifier.constants import *\n",
    "from cnnClassifier.utils.common import read_yaml, create_dirs"
   ],
   "metadata": {
    "collapsed": false,
    "ExecuteTime": {
     "end_time": "2024-02-22T08:22:20.239394040Z",
     "start_time": "2024-02-22T08:22:19.528143882Z"
    }
   },
   "id": "a30a745201aed58f",
   "execution_count": 5
  },
  {
   "cell_type": "code",
   "outputs": [],
   "source": [
    "class ConfigurationManager:\n",
    "    def __init__(\n",
    "            self,\n",
    "            config_file=CONFIG_FILE_PATH,\n",
    "            params_file=PARAMS_FILE_PATH):\n",
    "        self.config = read_yaml(config_file)\n",
    "        self.params_file = read_yaml(params_file)\n",
    "        \n",
    "        create_dirs([self.config.artifacts_root])\n",
    "        \n",
    "    def get_callbacks_config(self) -> CallbacksConfig:\n",
    "        config1 = self.config.prepare_callbacks\n",
    "        model_ckpt_dir = os.path.dirname(config1.checkpoint_model_file)\n",
    "        create_dirs([\n",
    "            model_ckpt_dir,\n",
    "            config1.tensorboard_log_dir\n",
    "                     ])\n",
    "        callbacks_config1 = CallbacksConfig(\n",
    "            root_dir=Path(config1.root_dir),\n",
    "            tensorboard_log_dir=Path(config1.tensorboard_log_dir),\n",
    "            checkpoint_dir=Path(config1.checkpoint_model_file)\n",
    "        )\n",
    "        return callbacks_config1"
   ],
   "metadata": {
    "collapsed": false,
    "ExecuteTime": {
     "end_time": "2024-02-22T08:44:52.338697131Z",
     "start_time": "2024-02-22T08:44:52.320206140Z"
    }
   },
   "id": "8db72d3725eca7ee",
   "execution_count": 15
  },
  {
   "cell_type": "code",
   "outputs": [
    {
     "name": "stderr",
     "output_type": "stream",
     "text": [
      "2024-02-22 12:03:12.666989: I tensorflow/core/platform/cpu_feature_guard.cc:182] This TensorFlow binary is optimized to use available CPU instructions in performance-critical operations.\n",
      "To enable the following instructions: SSE4.1 SSE4.2 AVX AVX2 FMA, in other operations, rebuild TensorFlow with the appropriate compiler flags.\n"
     ]
    },
    {
     "name": "stdout",
     "output_type": "stream",
     "text": [
      "2024-02-22 12:03:17,887 - INFO - utils - NumExpr defaulting to 8 threads.\n"
     ]
    }
   ],
   "source": [
    "import time\n",
    "import tensorflow as tf"
   ],
   "metadata": {
    "collapsed": false,
    "ExecuteTime": {
     "end_time": "2024-02-22T08:33:19.000918862Z",
     "start_time": "2024-02-22T08:33:11.045175353Z"
    }
   },
   "id": "1b6190f1fb8bbc6",
   "execution_count": 8
  },
  {
   "cell_type": "code",
   "outputs": [],
   "source": [
    "class Callbacks:\n",
    "    def __init__(self, config: CallbacksConfig):\n",
    "        self.config = config\n",
    "        \n",
    "    @property\n",
    "    def _create_tb_callbacks(self):\n",
    "        timestamp = time.strftime(\"%Y-%m-%d--%H:%M:%S\")\n",
    "        tb_running_log_dir = os.path.join(self.config.tensorboard_log_dir , f'tb_log_{timestamp}')\n",
    "        return tf.keras.callbacks.TensorBoard(log_dir=tb_running_log_dir)\n",
    "    \n",
    "    @property\n",
    "    def _create_ckpt_callbacks(self):\n",
    "        return tf.keras.callbacks.ModelCheckpoint(\n",
    "            filepath=self.config.checkpoint_dir,\n",
    "            save_best_only=True\n",
    "        )\n",
    "    \n",
    "    def get_tb_ckpt_callbacks(self):\n",
    "        return [self._create_tb_callbacks,\n",
    "                self._create_ckpt_callbacks]"
   ],
   "metadata": {
    "collapsed": false,
    "ExecuteTime": {
     "end_time": "2024-02-22T08:39:24.862190269Z",
     "start_time": "2024-02-22T08:39:24.818098193Z"
    }
   },
   "id": "8862b3e95210a52d",
   "execution_count": 10
  },
  {
   "cell_type": "code",
   "outputs": [
    {
     "name": "stdout",
     "output_type": "stream",
     "text": [
      "2024-02-22 12:14:55,794 - INFO - common - Loaded yaml file config/config.yaml\n",
      "2024-02-22 12:14:55,802 - INFO - common - Loaded yaml file params.yaml\n",
      "2024-02-22 12:14:55,805 - INFO - common - created directory artifacts\n",
      "2024-02-22 12:14:55,807 - INFO - common - created directory artifacts/prepare_callbacks/checkpoint_dir\n",
      "2024-02-22 12:14:55,808 - INFO - common - created directory artifacts/prepare_callbacks/tensorboard_log_dir\n"
     ]
    }
   ],
   "source": [
    "try :\n",
    "    config = ConfigurationManager()\n",
    "    callbacks_config = config.get_callbacks_config()\n",
    "    callbacks = Callbacks(callbacks_config)\n",
    "    callbacks_list = callbacks.get_tb_ckpt_callbacks()\n",
    "    \n",
    "except Exception as e:\n",
    "    raise e"
   ],
   "metadata": {
    "collapsed": false,
    "ExecuteTime": {
     "end_time": "2024-02-22T08:44:55.816554804Z",
     "start_time": "2024-02-22T08:44:55.801071174Z"
    }
   },
   "id": "a076a2353039e35a",
   "execution_count": 16
  },
  {
   "cell_type": "code",
   "outputs": [],
   "source": [],
   "metadata": {
    "collapsed": false
   },
   "id": "b79b8f2f4e265889"
  }
 ],
 "metadata": {
  "kernelspec": {
   "display_name": "Python 3",
   "language": "python",
   "name": "python3"
  },
  "language_info": {
   "codemirror_mode": {
    "name": "ipython",
    "version": 2
   },
   "file_extension": ".py",
   "mimetype": "text/x-python",
   "name": "python",
   "nbconvert_exporter": "python",
   "pygments_lexer": "ipython2",
   "version": "2.7.6"
  }
 },
 "nbformat": 4,
 "nbformat_minor": 5
}
