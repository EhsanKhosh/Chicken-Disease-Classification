{
 "cells": [
  {
   "cell_type": "code",
   "execution_count": 1,
   "id": "initial_id",
   "metadata": {
    "collapsed": true,
    "ExecuteTime": {
     "end_time": "2024-02-22T09:00:12.161779715Z",
     "start_time": "2024-02-22T09:00:12.160676678Z"
    }
   },
   "outputs": [
    {
     "data": {
      "text/plain": "'/home/ehsan/PycharmProjects/Chicken-Disease-Classification/Chicken-Disease-Classification'"
     },
     "execution_count": 1,
     "metadata": {},
     "output_type": "execute_result"
    }
   ],
   "source": [
    "import os\n",
    "os.chdir('../')\n",
    "%pwd"
   ]
  },
  {
   "cell_type": "code",
   "outputs": [],
   "source": [
    "from dataclasses import dataclass\n",
    "from pathlib import Path\n",
    "\n",
    "@dataclass(frozen=True)\n",
    "class TrainingConfig:\n",
    "    root_dir: Path \n",
    "    trained_model_path: Path\n",
    "    updated_base_model_path: Path\n",
    "    training_data_path: Path\n",
    "    params_epochs: int\n",
    "    params_batch_size: int\n",
    "    params_is_augmented: bool\n",
    "    params_image_size: list\n",
    "    "
   ],
   "metadata": {
    "collapsed": false,
    "ExecuteTime": {
     "end_time": "2024-02-22T09:20:13.928860941Z",
     "start_time": "2024-02-22T09:20:13.888787893Z"
    }
   },
   "id": "f4dbe16c47c890ae",
   "execution_count": 5
  },
  {
   "cell_type": "code",
   "outputs": [],
   "source": [
    "from cnnClassifier.entity.config_entity import CallbacksConfig"
   ],
   "metadata": {
    "collapsed": false,
    "ExecuteTime": {
     "end_time": "2024-02-22T09:07:43.782582405Z",
     "start_time": "2024-02-22T09:07:43.737107297Z"
    }
   },
   "id": "7c3f7f043eecf756",
   "execution_count": 3
  },
  {
   "cell_type": "code",
   "outputs": [
    {
     "name": "stderr",
     "output_type": "stream",
     "text": [
      "2024-02-22 12:38:30.603580: I tensorflow/core/platform/cpu_feature_guard.cc:182] This TensorFlow binary is optimized to use available CPU instructions in performance-critical operations.\n",
      "To enable the following instructions: SSE4.1 SSE4.2 AVX AVX2 FMA, in other operations, rebuild TensorFlow with the appropriate compiler flags.\n"
     ]
    },
    {
     "name": "stdout",
     "output_type": "stream",
     "text": [
      "2024-02-22 12:38:35,521 - INFO - utils - NumExpr defaulting to 8 threads.\n"
     ]
    }
   ],
   "source": [
    "from cnnClassifier.constants import *\n",
    "from cnnClassifier.utils.common import read_yaml, create_dirs\n",
    "import tensorflow as tf"
   ],
   "metadata": {
    "collapsed": false,
    "ExecuteTime": {
     "end_time": "2024-02-22T09:08:36.500724730Z",
     "start_time": "2024-02-22T09:08:29.752235048Z"
    }
   },
   "id": "6ef35dd6b6457e0e",
   "execution_count": 4
  },
  {
   "cell_type": "code",
   "outputs": [],
   "source": [
    "class ConfigurationManager:\n",
    "    def __init__(\n",
    "            self,\n",
    "            config_path = CONFIG_FILE_PATH,\n",
    "            params_path = PARAMS_FILE_PATH):\n",
    "        self.config = read_yaml(config_path)\n",
    "        self.params = read_yaml(params_path)\n",
    "        \n",
    "        create_dirs([self.config.artifacts_root])\n",
    "        \n",
    "    \n",
    "    def get_callbacks_config(self) -> CallbacksConfig:\n",
    "        config1 = self.config.prepare_callbacks\n",
    "        model_ckpt_dir = os.path.dirname(config1.checkpoint_model_file)\n",
    "        create_dirs([\n",
    "            model_ckpt_dir,\n",
    "            config1.tensorboard_log_dir\n",
    "                     ])\n",
    "        callbacks_config1 = CallbacksConfig(\n",
    "            root_dir=Path(config1.root_dir),\n",
    "            tensorboard_log_dir=Path(config1.tensorboard_log_dir),\n",
    "            checkpoint_dir=Path(config1.checkpoint_model_file)\n",
    "        )\n",
    "        return callbacks_config1\n",
    "   \n",
    "    def get_training_config(self) -> TrainingConfig:\n",
    "       training_config = self.config.training\n",
    "       prepare_base_model = self.config.prepare_base_model\n",
    "       params = self.params\n",
    "       training_data = os.path.join(self.config.data_ingestion.unzip_file, \"Chicken-fecal-images\")\n",
    "       create_dirs([training_config.root_dir])\n",
    "       \n",
    "       training_config = TrainingConfig(\n",
    "           root_dir=training_config.root_dir,\n",
    "           trained_model_path=Path(training_config.trained_model_path),\n",
    "           updated_base_model_path =Path(prepare_base_model.updated_base_model_path),\n",
    "           training_data_path=training_data,\n",
    "           params_epochs=params.EPOCHS,\n",
    "           params_batch_size=params.BATCH_SIZE,\n",
    "           params_is_augmented=params.AUGMENTATION,\n",
    "           params_image_size=params.IMAGE_SIZE\n",
    "       )\n",
    "       return training_config"
   ],
   "metadata": {
    "collapsed": false,
    "ExecuteTime": {
     "end_time": "2024-02-22T09:44:52.833099763Z",
     "start_time": "2024-02-22T09:44:52.791923300Z"
    }
   },
   "id": "be53da5b76c54ef9",
   "execution_count": 13
  },
  {
   "cell_type": "code",
   "outputs": [],
   "source": [
    "import time"
   ],
   "metadata": {
    "collapsed": false,
    "ExecuteTime": {
     "end_time": "2024-02-22T09:22:20.390577116Z",
     "start_time": "2024-02-22T09:22:20.277958823Z"
    }
   },
   "id": "e200e8c22bb9d287",
   "execution_count": 9
  },
  {
   "cell_type": "code",
   "outputs": [],
   "source": [
    "class Callbacks:\n",
    "    def __init__(self, config: CallbacksConfig):\n",
    "        self.config = config\n",
    "\n",
    "    @property\n",
    "    def _create_tb_callbacks(self):\n",
    "        timestamp = time.strftime(\"%Y-%m-%d--%H:%M:%S\")\n",
    "        tb_running_log_dir = os.path.join(self.config.tensorboard_log_dir, f'tb_log_{timestamp}')\n",
    "        return tf.keras.callbacks.TensorBoard(log_dir=tb_running_log_dir)\n",
    "\n",
    "    @property\n",
    "    def _create_ckpt_callbacks(self):\n",
    "        return tf.keras.callbacks.ModelCheckpoint(\n",
    "            filepath=self.config.checkpoint_dir,\n",
    "            save_best_only=True\n",
    "        )\n",
    "\n",
    "    def get_tb_ckpt_callbacks(self):\n",
    "        return [self._create_tb_callbacks,\n",
    "                self._create_ckpt_callbacks]\n",
    "    "
   ],
   "metadata": {
    "collapsed": false,
    "ExecuteTime": {
     "end_time": "2024-02-22T09:22:49.183644152Z",
     "start_time": "2024-02-22T09:22:49.073157897Z"
    }
   },
   "id": "4216e201d73e2eb1",
   "execution_count": 10
  },
  {
   "cell_type": "code",
   "outputs": [],
   "source": [
    "class Trainer:\n",
    "    def __init__(self, config: TrainingConfig):\n",
    "        self.validation_steps = None\n",
    "        self.step_per_epochs = None\n",
    "        self.train_generator = None\n",
    "        self.valid_data_generator = None\n",
    "        self.model = None\n",
    "        self.config = config\n",
    "        \n",
    "    def get_base_model(self):\n",
    "        self.model = tf.keras.models.load_model(self.config.updated_base_model_path)\n",
    "        \n",
    "    def train_valid_generator(self):\n",
    "        data_generator_kwargs = dict(\n",
    "            rescale=1./255,\n",
    "            validation_split=0.2\n",
    "        )\n",
    "        dataflow_kwargs = dict(\n",
    "            target_size=self.config.params_image_size[:-1],\n",
    "            batch_size=self.config.params_batch_size,\n",
    "            interpolation='bilinear'\n",
    "        )\n",
    "        valid_data_generator = tf.keras.preprocessing.image.ImageDataGenerator(\n",
    "            **data_generator_kwargs\n",
    "            )\n",
    "        self.valid_data_generator = valid_data_generator.flow_from_directory(\n",
    "            directory=self.config.training_data_path,\n",
    "            subset='validation',\n",
    "            shuffle=False,\n",
    "            **dataflow_kwargs\n",
    "        )\n",
    "        if self.config.params_is_augmented:\n",
    "            train_datagen = tf.keras.preprocessing.image.ImageDataGenerator(\n",
    "                rotation_range=40,\n",
    "                horizontal_flip=True,\n",
    "                width_shift_range=0.2,\n",
    "                height_shift_range=0.2,\n",
    "                shear_range=0.2,\n",
    "                zoom_range=0.2,\n",
    "                **data_generator_kwargs\n",
    "            )\n",
    "        else:\n",
    "            train_datagen = valid_data_generator\n",
    "            \n",
    "        self.train_generator = train_datagen.flow_from_directory(\n",
    "            directory=self.config.training_data_path,\n",
    "            subset='training',\n",
    "            shuffle=True,\n",
    "            **dataflow_kwargs\n",
    "        )\n",
    "        \n",
    "    @staticmethod\n",
    "    def save_model(path: Path, model: tf.keras.Model):\n",
    "        model.save(path)\n",
    "        \n",
    "    def train(self, callbacks_list: list):\n",
    "        self.step_per_epochs = self.train_generator.samples // self.train_generator.batch_size\n",
    "        self.validation_steps = self.valid_data_generator.samples // self.valid_data_generator.batch_size\n",
    "        \n",
    "        self.model.fit(\n",
    "            self.train_generator,\n",
    "            epochs=self.config.params_epochs,\n",
    "            callbacks=callbacks_list,\n",
    "            steps_per_epoch=self.step_per_epochs,\n",
    "            validation_steps=self.validation_steps,\n",
    "            validation_data=self.valid_data_generator\n",
    "        )\n",
    "        \n",
    "        self.save_model(\n",
    "            path=self.config.trained_model_path,\n",
    "            model=self.model\n",
    "        )"
   ],
   "metadata": {
    "collapsed": false,
    "ExecuteTime": {
     "end_time": "2024-02-22T09:46:39.869083384Z",
     "start_time": "2024-02-22T09:46:39.825669405Z"
    }
   },
   "id": "86a2575baae9d1f5",
   "execution_count": 15
  },
  {
   "cell_type": "code",
   "outputs": [
    {
     "name": "stdout",
     "output_type": "stream",
     "text": [
      "2024-02-22 13:16:40,803 - INFO - common - Loaded yaml file config/config.yaml\n",
      "2024-02-22 13:16:40,811 - INFO - common - Loaded yaml file params.yaml\n",
      "2024-02-22 13:16:40,814 - INFO - common - created directory artifacts\n",
      "2024-02-22 13:16:40,816 - INFO - common - created directory artifacts/prepare_callbacks/checkpoint_dir\n",
      "2024-02-22 13:16:40,819 - INFO - common - created directory artifacts/prepare_callbacks/tensorboard_log_dir\n",
      "2024-02-22 13:16:40,821 - INFO - common - created directory artifacts/training\n",
      "Found 78 images belonging to 2 classes.\n",
      "Found 312 images belonging to 2 classes.\n",
      "Epoch 1/5\n"
     ]
    },
    {
     "name": "stderr",
     "output_type": "stream",
     "text": [
      "2024-02-22 13:16:41.754987: I tensorflow/core/common_runtime/executor.cc:1197] [/device:CPU:0] (DEBUG INFO) Executor start aborting (this does not indicate an error and you can ignore this message): INVALID_ARGUMENT: You must feed a value for placeholder tensor 'Placeholder/_0' with dtype int32\n",
      "\t [[{{node Placeholder/_0}}]]\n"
     ]
    },
    {
     "name": "stdout",
     "output_type": "stream",
     "text": [
      "19/19 [==============================] - ETA: 0s - loss: 13.7088 - accuracy: 0.5101"
     ]
    },
    {
     "name": "stderr",
     "output_type": "stream",
     "text": [
      "2024-02-22 13:17:49.410050: I tensorflow/core/common_runtime/executor.cc:1197] [/device:CPU:0] (DEBUG INFO) Executor start aborting (this does not indicate an error and you can ignore this message): INVALID_ARGUMENT: You must feed a value for placeholder tensor 'Placeholder/_0' with dtype int32\n",
      "\t [[{{node Placeholder/_0}}]]\n"
     ]
    },
    {
     "name": "stdout",
     "output_type": "stream",
     "text": [
      "19/19 [==============================] - 109s 6s/step - loss: 13.7088 - accuracy: 0.5101 - val_loss: 15.6933 - val_accuracy: 0.3906\n",
      "Epoch 2/5\n",
      "19/19 [==============================] - 79s 4s/step - loss: 9.1934 - accuracy: 0.5878 - val_loss: 3.4977 - val_accuracy: 0.6875\n",
      "Epoch 3/5\n",
      "19/19 [==============================] - 60s 3s/step - loss: 2.8906 - accuracy: 0.7703 - val_loss: 0.9250 - val_accuracy: 0.9062\n",
      "Epoch 4/5\n",
      "19/19 [==============================] - 57s 3s/step - loss: 2.4565 - accuracy: 0.8243 - val_loss: 2.6250 - val_accuracy: 0.7188\n",
      "Epoch 5/5\n",
      "19/19 [==============================] - 75s 4s/step - loss: 3.2076 - accuracy: 0.7703 - val_loss: 6.5765 - val_accuracy: 0.5625\n"
     ]
    }
   ],
   "source": [
    "try:\n",
    "    config = ConfigurationManager()\n",
    "    callbacks_config = config.get_callbacks_config()\n",
    "    callbacks_list = Callbacks(callbacks_config)\n",
    "    callbacks_list = callbacks_list.get_tb_ckpt_callbacks()\n",
    "    \n",
    "    training_config = config.get_training_config()\n",
    "    trainer = Trainer(training_config)\n",
    "    trainer.get_base_model()\n",
    "    trainer.train_valid_generator()\n",
    "    trainer.train(callbacks_list)\n",
    "except Exception as e:\n",
    "    raise e"
   ],
   "metadata": {
    "collapsed": false,
    "ExecuteTime": {
     "end_time": "2024-02-22T09:53:00.931599318Z",
     "start_time": "2024-02-22T09:46:40.793556085Z"
    }
   },
   "id": "c612f62fce94b6bb",
   "execution_count": 16
  },
  {
   "cell_type": "code",
   "outputs": [],
   "source": [],
   "metadata": {
    "collapsed": false
   },
   "id": "5376fe6b6130c55a"
  }
 ],
 "metadata": {
  "kernelspec": {
   "display_name": "Python 3",
   "language": "python",
   "name": "python3"
  },
  "language_info": {
   "codemirror_mode": {
    "name": "ipython",
    "version": 2
   },
   "file_extension": ".py",
   "mimetype": "text/x-python",
   "name": "python",
   "nbconvert_exporter": "python",
   "pygments_lexer": "ipython2",
   "version": "2.7.6"
  }
 },
 "nbformat": 4,
 "nbformat_minor": 5
}
