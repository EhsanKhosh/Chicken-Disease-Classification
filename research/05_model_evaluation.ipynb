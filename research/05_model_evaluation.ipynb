{
 "cells": [
  {
   "cell_type": "code",
   "execution_count": 1,
   "id": "initial_id",
   "metadata": {
    "collapsed": true,
    "ExecuteTime": {
     "end_time": "2024-02-22T10:11:11.390295977Z",
     "start_time": "2024-02-22T10:11:11.388804354Z"
    }
   },
   "outputs": [
    {
     "data": {
      "text/plain": "'/home/ehsan/PycharmProjects/Chicken-Disease-Classification/Chicken-Disease-Classification'"
     },
     "execution_count": 1,
     "metadata": {},
     "output_type": "execute_result"
    }
   ],
   "source": [
    "import os\n",
    "os.chdir('../')\n",
    "%pwd"
   ]
  },
  {
   "cell_type": "code",
   "outputs": [
    {
     "name": "stderr",
     "output_type": "stream",
     "text": [
      "2024-02-22 13:41:56.595850: I tensorflow/core/platform/cpu_feature_guard.cc:182] This TensorFlow binary is optimized to use available CPU instructions in performance-critical operations.\n",
      "To enable the following instructions: SSE4.1 SSE4.2 AVX AVX2 FMA, in other operations, rebuild TensorFlow with the appropriate compiler flags.\n"
     ]
    }
   ],
   "source": [
    "import tensorflow as tf"
   ],
   "metadata": {
    "collapsed": false,
    "ExecuteTime": {
     "end_time": "2024-02-22T10:12:15.652710065Z",
     "start_time": "2024-02-22T10:11:55.643933494Z"
    }
   },
   "id": "75d21d106f09e925",
   "execution_count": 2
  },
  {
   "cell_type": "code",
   "outputs": [
    {
     "name": "stderr",
     "output_type": "stream",
     "text": [
      "2024-02-22 21:10:23.759378: I tensorflow/core/common_runtime/process_util.cc:146] Creating new thread pool with default inter op setting: 2. Tune using inter_op_parallelism_threads for best performance.\n"
     ]
    }
   ],
   "source": [
    "model = tf.keras.models.load_model('artifacts/training/model.h5')"
   ],
   "metadata": {
    "collapsed": false,
    "ExecuteTime": {
     "end_time": "2024-02-22T17:40:24.323556931Z",
     "start_time": "2024-02-22T17:40:23.694965173Z"
    }
   },
   "id": "3e8cc86ff69144a8",
   "execution_count": 3
  },
  {
   "cell_type": "code",
   "outputs": [],
   "source": [
    "from dataclasses import dataclass\n",
    "from pathlib import Path\n",
    "\n",
    "@dataclass(frozen=True)\n",
    "class EvaluationConfig:\n",
    "    model_path: Path\n",
    "    training_data: Path\n",
    "    all_params: dict\n",
    "    params_image_size: list\n",
    "    params_batch_size: int"
   ],
   "metadata": {
    "collapsed": false,
    "ExecuteTime": {
     "end_time": "2024-02-22T17:42:20.652898454Z",
     "start_time": "2024-02-22T17:42:20.612143020Z"
    }
   },
   "id": "baa94e2674afa915",
   "execution_count": 4
  },
  {
   "cell_type": "code",
   "outputs": [],
   "source": [
    "from cnnClassifier.constants import *\n",
    "from cnnClassifier.utils.common import read_yaml, create_dirs, save_json"
   ],
   "metadata": {
    "collapsed": false,
    "ExecuteTime": {
     "end_time": "2024-02-22T17:43:04.273948161Z",
     "start_time": "2024-02-22T17:43:04.127998681Z"
    }
   },
   "id": "31545a8cd67e2e9d",
   "execution_count": 5
  },
  {
   "cell_type": "code",
   "outputs": [],
   "source": [
    "class ConfigurationManager:\n",
    "    def __init__(\n",
    "            self,\n",
    "            config_file=CONFIG_FILE_PATH,\n",
    "            params_file=PARAMS_FILE_PATH):\n",
    "        self.config = read_yaml(config_file)\n",
    "        self.params = read_yaml(params_file)\n",
    "        create_dirs([self.config.artifacts_root])\n",
    "        \n",
    "    def get_evaluation_config(self):\n",
    "        eval_config = EvaluationConfig(\n",
    "            model_path=Path(self.config.training.trained_model_path),\n",
    "            training_data=Path('artifacts/data_ingestion/Chicken-fecal-images'),\n",
    "            all_params=self.params,\n",
    "            params_image_size=self.params.IMAGE_SIZE,\n",
    "            params_batch_size=self.params.BATCH_SIZE\n",
    "        )\n",
    "        return eval_config\n",
    "    "
   ],
   "metadata": {
    "collapsed": false,
    "ExecuteTime": {
     "end_time": "2024-02-22T17:49:56.599051572Z",
     "start_time": "2024-02-22T17:49:56.492034393Z"
    }
   },
   "id": "c08165a595a0c822",
   "execution_count": 7
  },
  {
   "cell_type": "code",
   "outputs": [],
   "source": [
    "from urllib.parse import urlparse"
   ],
   "metadata": {
    "collapsed": false,
    "ExecuteTime": {
     "end_time": "2024-02-22T17:51:02.251620521Z",
     "start_time": "2024-02-22T17:51:02.205004788Z"
    }
   },
   "id": "4d4c055164291ae7",
   "execution_count": 8
  },
  {
   "cell_type": "code",
   "outputs": [],
   "source": [
    "class Evaluation:\n",
    "    def __init__(self, config: EvaluationConfig):\n",
    "        self.model = None\n",
    "        self.score = None\n",
    "        self.config = config\n",
    "        \n",
    "       \n",
    "    def _valid_generator(self):\n",
    "        data_generator_kwargs = dict(\n",
    "            rescale=1.0/255,\n",
    "            validation_split=0.3\n",
    "        ) \n",
    "        dataflow_kwargs = dict(\n",
    "            target_size = self.config.params_image_size[:-1],\n",
    "            batch_size = self.config.params_batch_size,\n",
    "            interpolation='bilinear'\n",
    "        )\n",
    "        val_datagen = tf.keras.preprocessing.image.ImageDataGenerator(\n",
    "            **data_generator_kwargs\n",
    "        )\n",
    "        self.val_datagen = val_datagen.flow_from_directory(\n",
    "            directory=self.config.training_data,\n",
    "            subset='validation',\n",
    "            shuffle=False,\n",
    "            **dataflow_kwargs\n",
    "        )\n",
    "        \n",
    "    @staticmethod\n",
    "    def load_model(path: Path) ->tf.keras.Model:\n",
    "        return tf.keras.models.load_model(path)\n",
    "    \n",
    "    def evaluation(self):\n",
    "        self.model = self.load_model(self.config.model_path)\n",
    "        self._valid_generator()\n",
    "        self.score = self.model.evaluate(self.val_datagen)\n",
    "        \n",
    "    def save_score(self):\n",
    "        scores = {'loss': self.score[0], 'accuracy': self.score[1]}\n",
    "        save_json(path_to_json=Path('scores.json'), data=scores)\n",
    "        "
   ],
   "metadata": {
    "collapsed": false,
    "ExecuteTime": {
     "end_time": "2024-02-22T18:04:52.076914179Z",
     "start_time": "2024-02-22T18:04:52.035205880Z"
    }
   },
   "id": "52ec3924d6fe057",
   "execution_count": 13
  },
  {
   "cell_type": "code",
   "outputs": [
    {
     "name": "stdout",
     "output_type": "stream",
     "text": [
      "2024-02-22 21:34:52,434 - INFO - common - Loaded yaml file config/config.yaml\n",
      "2024-02-22 21:34:52,437 - INFO - common - Loaded yaml file params.yaml\n",
      "2024-02-22 21:34:52,438 - INFO - common - created directory artifacts\n",
      "Found 116 images belonging to 2 classes.\n"
     ]
    },
    {
     "name": "stderr",
     "output_type": "stream",
     "text": [
      "2024-02-22 21:34:53.291779: I tensorflow/core/common_runtime/executor.cc:1197] [/device:CPU:0] (DEBUG INFO) Executor start aborting (this does not indicate an error and you can ignore this message): INVALID_ARGUMENT: You must feed a value for placeholder tensor 'Placeholder/_0' with dtype int32\n",
      "\t [[{{node Placeholder/_0}}]]\n"
     ]
    },
    {
     "name": "stdout",
     "output_type": "stream",
     "text": [
      "8/8 [==============================] - 29s 3s/step - loss: 1.7911 - accuracy: 0.8276\n",
      "2024-02-22 21:35:22,043 - INFO - common - saved json file scores.json\n"
     ]
    }
   ],
   "source": [
    "try:\n",
    "    config = ConfigurationManager()\n",
    "    eval_config = config.get_evaluation_config()\n",
    "    evaluator = Evaluation(eval_config)\n",
    "    evaluator.evaluation()\n",
    "    evaluator.save_score()\n",
    "except Exception as e:\n",
    "    raise Exception(e)"
   ],
   "metadata": {
    "collapsed": false,
    "ExecuteTime": {
     "end_time": "2024-02-22T18:05:22.073700389Z",
     "start_time": "2024-02-22T18:04:52.434002083Z"
    }
   },
   "id": "44606dd2a780416a",
   "execution_count": 14
  },
  {
   "cell_type": "code",
   "outputs": [],
   "source": [],
   "metadata": {
    "collapsed": false
   },
   "id": "bf11e01114cd64be"
  }
 ],
 "metadata": {
  "kernelspec": {
   "display_name": "Python 3",
   "language": "python",
   "name": "python3"
  },
  "language_info": {
   "codemirror_mode": {
    "name": "ipython",
    "version": 2
   },
   "file_extension": ".py",
   "mimetype": "text/x-python",
   "name": "python",
   "nbconvert_exporter": "python",
   "pygments_lexer": "ipython2",
   "version": "2.7.6"
  }
 },
 "nbformat": 4,
 "nbformat_minor": 5
}
