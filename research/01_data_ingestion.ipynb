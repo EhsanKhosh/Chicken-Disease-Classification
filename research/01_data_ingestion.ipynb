{
 "cells": [
  {
   "cell_type": "code",
   "execution_count": 1,
   "id": "initial_id",
   "metadata": {
    "collapsed": true,
    "ExecuteTime": {
     "end_time": "2024-02-21T18:01:59.851069601Z",
     "start_time": "2024-02-21T18:01:59.849764121Z"
    }
   },
   "outputs": [],
   "source": [
    "import os"
   ]
  },
  {
   "cell_type": "code",
   "outputs": [
    {
     "data": {
      "text/plain": "'/home/ehsan/PycharmProjects/Chicken-Disease-Classification/Chicken-Disease-Classification/research'"
     },
     "execution_count": 2,
     "metadata": {},
     "output_type": "execute_result"
    }
   ],
   "source": [
    "%pwd"
   ],
   "metadata": {
    "collapsed": false,
    "ExecuteTime": {
     "end_time": "2024-02-21T18:02:00.132030315Z",
     "start_time": "2024-02-21T18:02:00.126223283Z"
    }
   },
   "id": "959ad801c6942a6",
   "execution_count": 2
  },
  {
   "cell_type": "code",
   "outputs": [],
   "source": [
    "os.chdir('../')"
   ],
   "metadata": {
    "collapsed": false,
    "ExecuteTime": {
     "end_time": "2024-02-21T18:02:00.415648944Z",
     "start_time": "2024-02-21T18:02:00.406539142Z"
    }
   },
   "id": "98d33c12cbbba30f",
   "execution_count": 3
  },
  {
   "cell_type": "code",
   "outputs": [
    {
     "data": {
      "text/plain": "'/home/ehsan/PycharmProjects/Chicken-Disease-Classification/Chicken-Disease-Classification'"
     },
     "execution_count": 4,
     "metadata": {},
     "output_type": "execute_result"
    }
   ],
   "source": [
    "%pwd"
   ],
   "metadata": {
    "collapsed": false,
    "ExecuteTime": {
     "end_time": "2024-02-21T18:02:00.833842428Z",
     "start_time": "2024-02-21T18:02:00.794463296Z"
    }
   },
   "id": "a69904cb0c6ddc46",
   "execution_count": 4
  },
  {
   "cell_type": "code",
   "outputs": [],
   "source": [
    "from dataclasses import dataclass\n",
    "from pathlib import Path\n",
    "\n",
    "@dataclass(frozen=True)\n",
    "class DataIngestionConfig:\n",
    "    root_dir: Path\n",
    "    source_URL: str\n",
    "    local_data_file: Path\n",
    "    unzip_dir: Path\n"
   ],
   "metadata": {
    "collapsed": false,
    "ExecuteTime": {
     "end_time": "2024-02-21T18:02:01.066595289Z",
     "start_time": "2024-02-21T18:02:01.059121826Z"
    }
   },
   "id": "92e9b067460c3e77",
   "execution_count": 5
  },
  {
   "cell_type": "code",
   "outputs": [],
   "source": [
    "from cnnClassifier.constants import *\n",
    "from cnnClassifier.utils.common import read_yaml, create_dirs"
   ],
   "metadata": {
    "collapsed": false,
    "ExecuteTime": {
     "end_time": "2024-02-21T18:02:01.516723613Z",
     "start_time": "2024-02-21T18:02:01.297587682Z"
    }
   },
   "id": "b82c8fd45fddd91d",
   "execution_count": 6
  },
  {
   "cell_type": "code",
   "outputs": [],
   "source": [
    "class ConfigurationManager:\n",
    "    def __init__(\n",
    "            self,\n",
    "            config_dir=CONFIG_FILE_PATH,\n",
    "            params_file=PARAMS_FILE_PATH):\n",
    "        self.config = read_yaml(config_dir)\n",
    "        self.params = read_yaml(params_file)\n",
    "        \n",
    "        create_dirs([self.config.artifacts_root])\n",
    "        \n",
    "    def get_data_ingestion_config(self) -> DataIngestionConfig:\n",
    "        config = self.config.data_ingestion\n",
    "        data_ingestion_config = DataIngestionConfig(\n",
    "            root_dir=config.root_dir,\n",
    "            source_URL=config.source_URL,\n",
    "            local_data_file=config.local_data_file,\n",
    "            unzip_dir=config.unzip_file    \n",
    "        )\n",
    "        return data_ingestion_config\n",
    "    "
   ],
   "metadata": {
    "collapsed": false,
    "ExecuteTime": {
     "end_time": "2024-02-21T18:03:18.004379404Z",
     "start_time": "2024-02-21T18:03:17.985900583Z"
    }
   },
   "id": "bb1f4964772233de",
   "execution_count": 13
  },
  {
   "cell_type": "code",
   "outputs": [],
   "source": [
    "import os \n",
    "import urllib.request as request\n",
    "import zipfile\n",
    "from cnnClassifier import logger\n",
    "from cnnClassifier.utils.common import get_size"
   ],
   "metadata": {
    "collapsed": false,
    "ExecuteTime": {
     "end_time": "2024-02-21T18:02:02.409189145Z",
     "start_time": "2024-02-21T18:02:02.393751610Z"
    }
   },
   "id": "2ffa2514c2b535e9",
   "execution_count": 8
  },
  {
   "cell_type": "code",
   "outputs": [],
   "source": [
    "class DataIngestion:\n",
    "    def __init__(self, data_config: DataIngestionConfig):\n",
    "        self.config = data_config\n",
    "        \n",
    "    def download_data(self):\n",
    "        os.makedirs(os.path.dirname(self.config.local_data_file), exist_ok=True)\n",
    "        if not os.path.exists(self.config.local_data_file):\n",
    "            filename, headers = request.urlretrieve(url=self.config.source_URL,\n",
    "                                                    filename=self.config.local_data_file)\n",
    "            logger.info(f'Downloading {filename} to {self.config.local_data_file} with headers: {headers}'\n",
    "                        )\n",
    "            \n",
    "        else:\n",
    "            logger.info(f'File already downloaded: {self.config.local_data_file} with {get_size(Path(self.config.local_data_file))}KB size')\n",
    "    \n",
    "    def extract_data(self):\n",
    "        \n",
    "        unzip_dir = self.config.unzip_dir\n",
    "        os.makedirs(unzip_dir, exist_ok=True)\n",
    "        with zipfile.ZipFile(self.config.local_data_file, 'r') as zip_file:\n",
    "            zip_file.extractall(unzip_dir)\n",
    "            "
   ],
   "metadata": {
    "collapsed": false,
    "ExecuteTime": {
     "end_time": "2024-02-21T18:17:42.942113281Z",
     "start_time": "2024-02-21T18:17:42.895621332Z"
    }
   },
   "id": "558f312f25293fad",
   "execution_count": 22
  },
  {
   "cell_type": "code",
   "outputs": [
    {
     "name": "stdout",
     "output_type": "stream",
     "text": [
      "2024-02-21 21:47:43,825 - INFO - common - Loaded yaml file config/config.yaml\n",
      "2024-02-21 21:47:43,830 - INFO - common - Loaded yaml file params.yaml\n",
      "2024-02-21 21:47:43,832 - INFO - common - created directory artifacts\n",
      "2024-02-21 21:47:43,834 - INFO - 491321958 - File already downloaded: artifacts/data_ingestion/data.zip with ~ 11345 KBKB size\n"
     ]
    }
   ],
   "source": [
    "try:\n",
    "    config = ConfigurationManager()\n",
    "    data_ingestion_config = config.get_data_ingestion_config()\n",
    "    data_ingestion = DataIngestion(data_config=data_ingestion_config)\n",
    "    data_ingestion.download_data()\n",
    "    data_ingestion.extract_data()\n",
    "except Exception as e:\n",
    "    raise e"
   ],
   "metadata": {
    "collapsed": false,
    "ExecuteTime": {
     "end_time": "2024-02-21T18:17:43.985087866Z",
     "start_time": "2024-02-21T18:17:43.825525544Z"
    }
   },
   "id": "c197a3e615dc52d6",
   "execution_count": 23
  },
  {
   "cell_type": "code",
   "outputs": [],
   "source": [],
   "metadata": {
    "collapsed": false
   },
   "id": "1f2f6ef49bea42f3"
  }
 ],
 "metadata": {
  "kernelspec": {
   "display_name": "Python 3",
   "language": "python",
   "name": "python3"
  },
  "language_info": {
   "codemirror_mode": {
    "name": "ipython",
    "version": 2
   },
   "file_extension": ".py",
   "mimetype": "text/x-python",
   "name": "python",
   "nbconvert_exporter": "python",
   "pygments_lexer": "ipython2",
   "version": "2.7.6"
  }
 },
 "nbformat": 4,
 "nbformat_minor": 5
}
